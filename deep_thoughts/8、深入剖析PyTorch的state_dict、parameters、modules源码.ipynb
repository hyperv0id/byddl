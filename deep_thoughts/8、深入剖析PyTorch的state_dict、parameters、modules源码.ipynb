{
 "cells": [
  {
   "cell_type": "markdown",
   "id": "57d23577",
   "metadata": {},
   "source": [
    "# [8、深入剖析PyTorch的state_dict、parameters、modules源码](https://www.bilibili.com/video/BV12g411K7oq?spm_id_from=333.788.player.switch&vd_source=cdd897fffb54b70b076681c3c4e4d45d)"
   ]
  }
 ],
 "metadata": {
  "language_info": {
   "name": "python"
  }
 },
 "nbformat": 4,
 "nbformat_minor": 5
}
