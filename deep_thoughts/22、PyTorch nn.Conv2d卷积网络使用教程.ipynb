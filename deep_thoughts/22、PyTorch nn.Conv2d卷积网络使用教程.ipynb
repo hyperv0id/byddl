{
 "cells": [
  {
   "cell_type": "markdown",
   "metadata": {},
   "source": [
    "# 22、PyTorch nn.Conv2d卷积网络使用教程"
   ]
  },
  {
   "cell_type": "markdown",
   "metadata": {},
   "source": [
    "## 和MLP区别\n",
    "\n",
    "神经网络最重要的操作就是仿射变换，一般会对一个向量作为全连接网络的输入。\n",
    "\n",
    "全连接网络会送入一个向量，如何对整体来刻画。对于图像，不能直接转换成向量，因为存在RGB等维度，变成一维还丢失了内部联系。这时候就需要卷积网络。\n"
   ]
  },
  {
   "cell_type": "markdown",
   "metadata": {},
   "source": [
    "\n",
    "## 互相关\n",
    "\n",
    "互相关的核心思想是，将一个信号在时间轴上进行**移动（平移）**，然后与另一个信号在每个移动位置上进行逐点乘积并求和（或积分）。通过这种方式，互相关函数会给出一个关于两个信号在不同相对位移下的相似度量。\n",
    "\n",
    "\n",
    "它揭示了什么？\n",
    "\n",
    "- **相似性程度**： 互相关函数的值越大，表示两个信号在该特定时间位移下的相似度越高。\n",
    "- **最佳对齐**： 互相关函数的峰值（最大值）出现的位置，指示了两个信号之间最佳对齐的时间延迟。也就是说，将其中一个信号移动多少时间单位，它们才能达到最大的匹配或相似性。\n",
    "- **时间关系**： 如果一个信号是另一个信号的延迟版本，互相关就能准确地找出这个延迟量。\n"
   ]
  },
  {
   "cell_type": "markdown",
   "metadata": {},
   "source": [
    "\n",
    "$$\n",
    "\\text{out}(N_i, C_{\\text{out}_j}) = \\text{bias}(C_{\\text{out}_j}) + \\sum_{k=0}^{C_{\\text{in}}-1} \\text{weight}(C_{\\text{out}_j}, k) \\star \\text{input}(N_i, k)\n",
    "$$\n"
   ]
  },
  {
   "cell_type": "code",
   "execution_count": null,
   "metadata": {},
   "outputs": [],
   "source": []
  }
 ],
 "metadata": {
  "kernelspec": {
   "display_name": "Python 3",
   "language": "python",
   "name": "python3"
  },
  "language_info": {
   "codemirror_mode": {
    "name": "ipython",
    "version": 3
   },
   "file_extension": ".py",
   "mimetype": "text/x-python",
   "name": "python",
   "nbconvert_exporter": "python",
   "pygments_lexer": "ipython3",
   "version": "3.x.x"
  }
 },
 "nbformat": 4,
 "nbformat_minor": 4
}
