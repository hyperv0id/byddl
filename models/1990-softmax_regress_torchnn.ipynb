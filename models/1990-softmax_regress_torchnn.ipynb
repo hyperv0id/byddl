{
 "cells": [
  {
   "cell_type": "code",
   "execution_count": 29,
   "metadata": {},
   "outputs": [],
   "source": [
    "import torch\n",
    "import torchvision as tv\n",
    "import torch.nn as nn\n",
    "import matplotlib.pyplot as plt"
   ]
  },
  {
   "cell_type": "markdown",
   "metadata": {},
   "source": [
    "数据集加载"
   ]
  },
  {
   "cell_type": "code",
   "execution_count": 30,
   "metadata": {},
   "outputs": [],
   "source": [
    "data_path='./data'\n",
    "train_data=tv.datasets.FashionMNIST(root=data_path,train=True,download=True,transform=tv.transforms.ToTensor())\n",
    "test_data=tv.datasets.FashionMNIST(root=data_path,train=False,download=True,transform=tv.transforms.ToTensor())\n",
    "batch_size=256\n",
    "train_iter=torch.utils.data.DataLoader(train_data,batch_size=batch_size,shuffle=True,num_workers=0)\n",
    "test_iter=torch.utils.data.DataLoader(test_data,batch_size=batch_size,shuffle=False,num_workers=0)"
   ]
  },
  {
   "cell_type": "code",
   "execution_count": 31,
   "metadata": {},
   "outputs": [
    {
     "name": "stdout",
     "output_type": "stream",
     "text": [
      "torch.Size([31, 529])\n",
      "torch.Size([713, 23])\n"
     ]
    }
   ],
   "source": [
    "#学习torch.Flatten()函数，将连续的维度范围展平为张量\n",
    "a=torch.randn(31,1,23,23)\n",
    "b=nn.Flatten()#start-dim=1,end-dim=-1,1*23*23\n",
    "print(b(a).shape)\n",
    "c=nn.Flatten(0,2)#start-dim=0,end-dim=2,31*1*23\n",
    "print(c(a).shape)"
   ]
  },
  {
   "cell_type": "markdown",
   "metadata": {},
   "source": [
    "模型创建，我通过两种方法创建模型，本次实验采用第二种方法"
   ]
  },
  {
   "cell_type": "code",
   "execution_count": 32,
   "metadata": {},
   "outputs": [],
   "source": [
    "input_size = 28*28\n",
    "num_features = 10"
   ]
  },
  {
   "cell_type": "code",
   "execution_count": 33,
   "metadata": {},
   "outputs": [
    {
     "data": {
      "text/plain": [
       "LinearModel(\n",
       "  (flatten): Flatten(start_dim=1, end_dim=-1)\n",
       "  (linear): Linear(in_features=784, out_features=10, bias=True)\n",
       ")"
      ]
     },
     "execution_count": 33,
     "metadata": {},
     "output_type": "execute_result"
    }
   ],
   "source": [
    "# 方法一：编写模型类\n",
    "class LinearModel(nn.Module):\n",
    "    def __init__(self, input_size, num_features):\n",
    "        super(LinearModel, self).__init__()\n",
    "        self.flatten = nn.Flatten()\n",
    "        self.linear = nn.Linear(input_size, num_features)\n",
    "    def forward(self, x):\n",
    "        x = self.flatten(x)\n",
    "        return self.linear(x)\n",
    "net = LinearModel(input_size, num_features)\n",
    "net"
   ]
  },
  {
   "cell_type": "code",
   "execution_count": 34,
   "metadata": {},
   "outputs": [
    {
     "data": {
      "text/plain": [
       "Sequential(\n",
       "  (0): Flatten(start_dim=1, end_dim=-1)\n",
       "  (1): Linear(in_features=784, out_features=10, bias=True)\n",
       ")"
      ]
     },
     "execution_count": 34,
     "metadata": {},
     "output_type": "execute_result"
    }
   ],
   "source": [
    "# 方法二：torch.nn容器\n",
    "net = nn.Sequential(\n",
    "    nn.Flatten(),\n",
    "    nn.Linear(input_size, num_features)\n",
    ")\n",
    "net"
   ]
  },
  {
   "cell_type": "markdown",
   "metadata": {},
   "source": [
    "设置损失函数和优化器\n",
    "\n",
    "本实验是多分类任务，损失函数选择nn.CrossEntropyLoss(),该函数包括softmax运算和交叉熵损失计算"
   ]
  },
  {
   "cell_type": "code",
   "execution_count": 35,
   "metadata": {},
   "outputs": [],
   "source": [
    "# 多分类损失函数\n",
    "loss_func=nn.CrossEntropyLoss()\n",
    "# 优化器\n",
    "optimizer=torch.optim.SGD(net.parameters(),lr=1e-2)"
   ]
  },
  {
   "cell_type": "markdown",
   "metadata": {},
   "source": [
    "初始化模型参数"
   ]
  },
  {
   "cell_type": "code",
   "execution_count": 36,
   "metadata": {},
   "outputs": [
    {
     "data": {
      "text/plain": [
       "Sequential(\n",
       "  (0): Flatten(start_dim=1, end_dim=-1)\n",
       "  (1): Linear(in_features=784, out_features=10, bias=True)\n",
       ")"
      ]
     },
     "execution_count": 36,
     "metadata": {},
     "output_type": "execute_result"
    }
   ],
   "source": [
    "def init_model_param(m):\n",
    "    if type(m) is nn.Linear:\n",
    "        nn.init.normal_(m.weight,mean=0,std=0.01)\n",
    "        nn.init.constant_(m.bias,val=0)\n",
    "net.apply(init_model_param)"
   ]
  },
  {
   "cell_type": "markdown",
   "metadata": {},
   "source": [
    "模型训练预测"
   ]
  },
  {
   "cell_type": "code",
   "execution_count": 37,
   "metadata": {},
   "outputs": [
    {
     "name": "stdout",
     "output_type": "stream",
     "text": [
      "epoch 1, loss 0.005, train acc 0.645, test acc 0.680\n",
      "epoch 1, loss 0.005, train acc 0.645\n",
      "epoch 2, loss 0.004, train acc 0.716, test acc 0.725\n",
      "epoch 2, loss 0.004, train acc 0.716\n",
      "epoch 3, loss 0.003, train acc 0.750, test acc 0.748\n",
      "epoch 3, loss 0.003, train acc 0.750\n",
      "epoch 4, loss 0.003, train acc 0.768, test acc 0.761\n",
      "epoch 4, loss 0.003, train acc 0.768\n",
      "epoch 5, loss 0.003, train acc 0.780, test acc 0.769\n",
      "epoch 5, loss 0.003, train acc 0.780\n",
      "epoch 6, loss 0.003, train acc 0.789, test acc 0.781\n",
      "epoch 6, loss 0.003, train acc 0.789\n",
      "epoch 7, loss 0.003, train acc 0.796, test acc 0.784\n",
      "epoch 7, loss 0.003, train acc 0.796\n",
      "epoch 8, loss 0.002, train acc 0.800, test acc 0.788\n",
      "epoch 8, loss 0.002, train acc 0.800\n",
      "epoch 9, loss 0.002, train acc 0.804, test acc 0.792\n",
      "epoch 9, loss 0.002, train acc 0.804\n",
      "epoch 10, loss 0.002, train acc 0.808, test acc 0.795\n",
      "epoch 10, loss 0.002, train acc 0.808\n",
      "epoch 11, loss 0.002, train acc 0.810, test acc 0.799\n",
      "epoch 11, loss 0.002, train acc 0.810\n",
      "epoch 12, loss 0.002, train acc 0.813, test acc 0.801\n",
      "epoch 12, loss 0.002, train acc 0.813\n",
      "epoch 13, loss 0.002, train acc 0.815, test acc 0.805\n",
      "epoch 13, loss 0.002, train acc 0.815\n",
      "epoch 14, loss 0.002, train acc 0.817, test acc 0.806\n",
      "epoch 14, loss 0.002, train acc 0.817\n",
      "epoch 15, loss 0.002, train acc 0.819, test acc 0.808\n",
      "epoch 15, loss 0.002, train acc 0.819\n",
      "epoch 16, loss 0.002, train acc 0.821, test acc 0.809\n",
      "epoch 16, loss 0.002, train acc 0.821\n",
      "epoch 17, loss 0.002, train acc 0.822, test acc 0.811\n",
      "epoch 17, loss 0.002, train acc 0.822\n",
      "epoch 18, loss 0.002, train acc 0.823, test acc 0.812\n",
      "epoch 18, loss 0.002, train acc 0.823\n",
      "epoch 19, loss 0.002, train acc 0.825, test acc 0.812\n",
      "epoch 19, loss 0.002, train acc 0.825\n",
      "epoch 20, loss 0.002, train acc 0.826, test acc 0.813\n",
      "epoch 20, loss 0.002, train acc 0.826\n",
      "epoch 21, loss 0.002, train acc 0.827, test acc 0.814\n",
      "epoch 21, loss 0.002, train acc 0.827\n",
      "epoch 22, loss 0.002, train acc 0.828, test acc 0.816\n",
      "epoch 22, loss 0.002, train acc 0.828\n",
      "epoch 23, loss 0.002, train acc 0.828, test acc 0.814\n",
      "epoch 23, loss 0.002, train acc 0.828\n",
      "epoch 24, loss 0.002, train acc 0.829, test acc 0.817\n",
      "epoch 24, loss 0.002, train acc 0.829\n",
      "epoch 25, loss 0.002, train acc 0.830, test acc 0.817\n",
      "epoch 25, loss 0.002, train acc 0.830\n",
      "epoch 26, loss 0.002, train acc 0.831, test acc 0.819\n",
      "epoch 26, loss 0.002, train acc 0.831\n",
      "epoch 27, loss 0.002, train acc 0.831, test acc 0.819\n",
      "epoch 27, loss 0.002, train acc 0.831\n",
      "epoch 28, loss 0.002, train acc 0.832, test acc 0.819\n",
      "epoch 28, loss 0.002, train acc 0.832\n",
      "epoch 29, loss 0.002, train acc 0.833, test acc 0.821\n",
      "epoch 29, loss 0.002, train acc 0.833\n",
      "epoch 30, loss 0.002, train acc 0.834, test acc 0.822\n",
      "epoch 30, loss 0.002, train acc 0.834\n",
      "epoch 31, loss 0.002, train acc 0.834, test acc 0.821\n",
      "epoch 31, loss 0.002, train acc 0.834\n",
      "epoch 32, loss 0.002, train acc 0.835, test acc 0.822\n",
      "epoch 32, loss 0.002, train acc 0.835\n",
      "epoch 33, loss 0.002, train acc 0.835, test acc 0.824\n",
      "epoch 33, loss 0.002, train acc 0.835\n",
      "epoch 34, loss 0.002, train acc 0.836, test acc 0.823\n",
      "epoch 34, loss 0.002, train acc 0.836\n",
      "epoch 35, loss 0.002, train acc 0.836, test acc 0.824\n",
      "epoch 35, loss 0.002, train acc 0.836\n",
      "epoch 36, loss 0.002, train acc 0.837, test acc 0.824\n",
      "epoch 36, loss 0.002, train acc 0.837\n",
      "epoch 37, loss 0.002, train acc 0.837, test acc 0.825\n",
      "epoch 37, loss 0.002, train acc 0.837\n",
      "epoch 38, loss 0.002, train acc 0.838, test acc 0.825\n",
      "epoch 38, loss 0.002, train acc 0.838\n",
      "epoch 39, loss 0.002, train acc 0.838, test acc 0.826\n",
      "epoch 39, loss 0.002, train acc 0.838\n",
      "epoch 40, loss 0.002, train acc 0.839, test acc 0.825\n",
      "epoch 40, loss 0.002, train acc 0.839\n",
      "epoch 41, loss 0.002, train acc 0.840, test acc 0.827\n",
      "epoch 41, loss 0.002, train acc 0.840\n",
      "epoch 42, loss 0.002, train acc 0.839, test acc 0.827\n",
      "epoch 42, loss 0.002, train acc 0.839\n",
      "epoch 43, loss 0.002, train acc 0.840, test acc 0.828\n",
      "epoch 43, loss 0.002, train acc 0.840\n",
      "epoch 44, loss 0.002, train acc 0.840, test acc 0.829\n",
      "epoch 44, loss 0.002, train acc 0.840\n",
      "epoch 45, loss 0.002, train acc 0.840, test acc 0.828\n",
      "epoch 45, loss 0.002, train acc 0.840\n",
      "epoch 46, loss 0.002, train acc 0.841, test acc 0.828\n",
      "epoch 46, loss 0.002, train acc 0.841\n",
      "epoch 47, loss 0.002, train acc 0.841, test acc 0.829\n",
      "epoch 47, loss 0.002, train acc 0.841\n",
      "epoch 48, loss 0.002, train acc 0.842, test acc 0.827\n",
      "epoch 48, loss 0.002, train acc 0.842\n",
      "epoch 49, loss 0.002, train acc 0.842, test acc 0.828\n",
      "epoch 49, loss 0.002, train acc 0.842\n",
      "epoch 50, loss 0.002, train acc 0.842, test acc 0.829\n",
      "epoch 50, loss 0.002, train acc 0.842\n"
     ]
    }
   ],
   "source": [
    "epochs = 50\n",
    "train_acc, test_acc = [], []\n",
    "train_loss, test_loss = [], []\n",
    "for e in range(epochs):\n",
    "    train_loss_sum = 0\n",
    "    train_acc_sum = 0\n",
    "    train_length = 0\n",
    "    for imgs,labels in train_iter:\n",
    "        pred = net(imgs)\n",
    "        los = loss_func(pred, labels)\n",
    "        optimizer.zero_grad()\n",
    "        los.backward()\n",
    "        optimizer.step()\n",
    "        train_loss_sum += los.item()\n",
    "        train_acc_sum += (pred.argmax(1) == labels).sum().item()\n",
    "        train_length += labels.shape[0]\n",
    "    train_loss.append(train_loss_sum / train_length)\n",
    "    train_acc.append(train_acc_sum / train_length)\n",
    "    # 测试集预测\n",
    "    test_loss_sum, test_acc_sum, test_length = 0, 0, 0\n",
    "    for x,y in test_iter:\n",
    "        pred = net(x)\n",
    "        tlos = loss_func(pred,y)\n",
    "        test_loss_sum += tlos.item()\n",
    "        pre = (pred.argmax(dim=1)==y).sum().item()\n",
    "        test_acc_sum += pre\n",
    "        test_length += y.shape[0]\n",
    "    test_loss.append(test_loss_sum/test_length)\n",
    "    test_acc.append(test_acc_sum/test_length)\n",
    "    print('epoch %d, loss %.3f, train acc %.3f, test acc %.3f' % (e + 1, train_loss[e], train_acc[e], test_acc[e]))\n",
    "    print('epoch %d, loss %.3f, train acc %.3f' % (e + 1, train_loss[e], train_acc[e]))"
   ]
  },
  {
   "cell_type": "code",
   "execution_count": 38,
   "metadata": {},
   "outputs": [
    {
     "name": "stderr",
     "output_type": "stream",
     "text": [
      "findfont: Generic family 'sans-serif' not found because none of the following families were found: SimHei\n",
      "findfont: Generic family 'sans-serif' not found because none of the following families were found: SimHei\n",
      "findfont: Generic family 'sans-serif' not found because none of the following families were found: SimHei\n",
      "findfont: Generic family 'sans-serif' not found because none of the following families were found: SimHei\n",
      "findfont: Generic family 'sans-serif' not found because none of the following families were found: SimHei\n",
      "findfont: Generic family 'sans-serif' not found because none of the following families were found: SimHei\n",
      "findfont: Generic family 'sans-serif' not found because none of the following families were found: SimHei\n",
      "findfont: Generic family 'sans-serif' not found because none of the following families were found: SimHei\n",
      "findfont: Generic family 'sans-serif' not found because none of the following families were found: SimHei\n",
      "findfont: Generic family 'sans-serif' not found because none of the following families were found: SimHei\n",
      "findfont: Generic family 'sans-serif' not found because none of the following families were found: SimHei\n",
      "findfont: Generic family 'sans-serif' not found because none of the following families were found: SimHei\n",
      "/home/jcheng/.conda/envs/learn/lib/python3.11/site-packages/IPython/core/pylabtools.py:170: UserWarning: Glyph 27979 (\\N{CJK UNIFIED IDEOGRAPH-6D4B}) missing from font(s) DejaVu Sans.\n",
      "  fig.canvas.print_figure(bytes_io, **kw)\n",
      "/home/jcheng/.conda/envs/learn/lib/python3.11/site-packages/IPython/core/pylabtools.py:170: UserWarning: Glyph 35797 (\\N{CJK UNIFIED IDEOGRAPH-8BD5}) missing from font(s) DejaVu Sans.\n",
      "  fig.canvas.print_figure(bytes_io, **kw)\n",
      "/home/jcheng/.conda/envs/learn/lib/python3.11/site-packages/IPython/core/pylabtools.py:170: UserWarning: Glyph 38598 (\\N{CJK UNIFIED IDEOGRAPH-96C6}) missing from font(s) DejaVu Sans.\n",
      "  fig.canvas.print_figure(bytes_io, **kw)\n",
      "/home/jcheng/.conda/envs/learn/lib/python3.11/site-packages/IPython/core/pylabtools.py:170: UserWarning: Glyph 20934 (\\N{CJK UNIFIED IDEOGRAPH-51C6}) missing from font(s) DejaVu Sans.\n",
      "  fig.canvas.print_figure(bytes_io, **kw)\n",
      "/home/jcheng/.conda/envs/learn/lib/python3.11/site-packages/IPython/core/pylabtools.py:170: UserWarning: Glyph 30830 (\\N{CJK UNIFIED IDEOGRAPH-786E}) missing from font(s) DejaVu Sans.\n",
      "  fig.canvas.print_figure(bytes_io, **kw)\n",
      "/home/jcheng/.conda/envs/learn/lib/python3.11/site-packages/IPython/core/pylabtools.py:170: UserWarning: Glyph 24230 (\\N{CJK UNIFIED IDEOGRAPH-5EA6}) missing from font(s) DejaVu Sans.\n",
      "  fig.canvas.print_figure(bytes_io, **kw)\n",
      "findfont: Generic family 'sans-serif' not found because none of the following families were found: SimHei\n",
      "findfont: Generic family 'sans-serif' not found because none of the following families were found: SimHei\n",
      "findfont: Generic family 'sans-serif' not found because none of the following families were found: SimHei\n",
      "findfont: Generic family 'sans-serif' not found because none of the following families were found: SimHei\n",
      "findfont: Generic family 'sans-serif' not found because none of the following families were found: SimHei\n",
      "findfont: Generic family 'sans-serif' not found because none of the following families were found: SimHei\n",
      "findfont: Generic family 'sans-serif' not found because none of the following families were found: SimHei\n",
      "findfont: Generic family 'sans-serif' not found because none of the following families were found: SimHei\n",
      "findfont: Generic family 'sans-serif' not found because none of the following families were found: SimHei\n",
      "findfont: Generic family 'sans-serif' not found because none of the following families were found: SimHei\n",
      "findfont: Generic family 'sans-serif' not found because none of the following families were found: SimHei\n",
      "findfont: Generic family 'sans-serif' not found because none of the following families were found: SimHei\n",
      "findfont: Generic family 'sans-serif' not found because none of the following families were found: SimHei\n",
      "findfont: Generic family 'sans-serif' not found because none of the following families were found: SimHei\n",
      "findfont: Generic family 'sans-serif' not found because none of the following families were found: SimHei\n",
      "findfont: Generic family 'sans-serif' not found because none of the following families were found: SimHei\n",
      "findfont: Generic family 'sans-serif' not found because none of the following families were found: SimHei\n",
      "findfont: Generic family 'sans-serif' not found because none of the following families were found: SimHei\n",
      "findfont: Generic family 'sans-serif' not found because none of the following families were found: SimHei\n",
      "findfont: Generic family 'sans-serif' not found because none of the following families were found: SimHei\n",
      "findfont: Generic family 'sans-serif' not found because none of the following families were found: SimHei\n",
      "findfont: Generic family 'sans-serif' not found because none of the following families were found: SimHei\n",
      "findfont: Generic family 'sans-serif' not found because none of the following families were found: SimHei\n",
      "findfont: Generic family 'sans-serif' not found because none of the following families were found: SimHei\n",
      "findfont: Generic family 'sans-serif' not found because none of the following families were found: SimHei\n",
      "findfont: Generic family 'sans-serif' not found because none of the following families were found: SimHei\n",
      "findfont: Generic family 'sans-serif' not found because none of the following families were found: SimHei\n",
      "findfont: Generic family 'sans-serif' not found because none of the following families were found: SimHei\n",
      "findfont: Generic family 'sans-serif' not found because none of the following families were found: SimHei\n",
      "findfont: Generic family 'sans-serif' not found because none of the following families were found: SimHei\n",
      "findfont: Generic family 'sans-serif' not found because none of the following families were found: SimHei\n",
      "findfont: Generic family 'sans-serif' not found because none of the following families were found: SimHei\n",
      "findfont: Generic family 'sans-serif' not found because none of the following families were found: SimHei\n",
      "findfont: Generic family 'sans-serif' not found because none of the following families were found: SimHei\n",
      "findfont: Generic family 'sans-serif' not found because none of the following families were found: SimHei\n",
      "findfont: Generic family 'sans-serif' not found because none of the following families were found: SimHei\n",
      "findfont: Generic family 'sans-serif' not found because none of the following families were found: SimHei\n",
      "findfont: Generic family 'sans-serif' not found because none of the following families were found: SimHei\n",
      "findfont: Generic family 'sans-serif' not found because none of the following families were found: SimHei\n",
      "findfont: Generic family 'sans-serif' not found because none of the following families were found: SimHei\n",
      "findfont: Generic family 'sans-serif' not found because none of the following families were found: SimHei\n",
      "findfont: Generic family 'sans-serif' not found because none of the following families were found: SimHei\n",
      "findfont: Generic family 'sans-serif' not found because none of the following families were found: SimHei\n"
     ]
    },
    {
     "data": {
      "image/png": "[encoded data removed]",
      "text/plain": [
       "<Figure size 640x480 with 1 Axes>"
      ]
     },
     "metadata": {},
     "output_type": "display_data"
    },
    {
     "name": "stderr",
     "output_type": "stream",
     "text": [
      "findfont: Generic family 'sans-serif' not found because none of the following families were found: SimHei\n",
      "findfont: Generic family 'sans-serif' not found because none of the following families were found: SimHei\n",
      "findfont: Generic family 'sans-serif' not found because none of the following families were found: SimHei\n",
      "findfont: Generic family 'sans-serif' not found because none of the following families were found: SimHei\n",
      "findfont: Generic family 'sans-serif' not found because none of the following families were found: SimHei\n",
      "findfont: Generic family 'sans-serif' not found because none of the following families were found: SimHei\n",
      "findfont: Generic family 'sans-serif' not found because none of the following families were found: SimHei\n",
      "findfont: Generic family 'sans-serif' not found because none of the following families were found: SimHei\n",
      "findfont: Generic family 'sans-serif' not found because none of the following families were found: SimHei\n",
      "findfont: Generic family 'sans-serif' not found because none of the following families were found: SimHei\n",
      "findfont: Generic family 'sans-serif' not found because none of the following families were found: SimHei\n",
      "findfont: Generic family 'sans-serif' not found because none of the following families were found: SimHei\n",
      "/home/jcheng/.conda/envs/learn/lib/python3.11/site-packages/IPython/core/pylabtools.py:170: UserWarning: Glyph 35757 (\\N{CJK UNIFIED IDEOGRAPH-8BAD}) missing from font(s) DejaVu Sans.\n",
      "  fig.canvas.print_figure(bytes_io, **kw)\n",
      "/home/jcheng/.conda/envs/learn/lib/python3.11/site-packages/IPython/core/pylabtools.py:170: UserWarning: Glyph 32451 (\\N{CJK UNIFIED IDEOGRAPH-7EC3}) missing from font(s) DejaVu Sans.\n",
      "  fig.canvas.print_figure(bytes_io, **kw)\n",
      "/home/jcheng/.conda/envs/learn/lib/python3.11/site-packages/IPython/core/pylabtools.py:170: UserWarning: Glyph 25439 (\\N{CJK UNIFIED IDEOGRAPH-635F}) missing from font(s) DejaVu Sans.\n",
      "  fig.canvas.print_figure(bytes_io, **kw)\n",
      "/home/jcheng/.conda/envs/learn/lib/python3.11/site-packages/IPython/core/pylabtools.py:170: UserWarning: Glyph 22833 (\\N{CJK UNIFIED IDEOGRAPH-5931}) missing from font(s) DejaVu Sans.\n",
      "  fig.canvas.print_figure(bytes_io, **kw)\n",
      "findfont: Generic family 'sans-serif' not found because none of the following families were found: SimHei\n",
      "findfont: Generic family 'sans-serif' not found because none of the following families were found: SimHei\n",
      "findfont: Generic family 'sans-serif' not found because none of the following families were found: SimHei\n",
      "findfont: Generic family 'sans-serif' not found because none of the following families were found: SimHei\n",
      "findfont: Generic family 'sans-serif' not found because none of the following families were found: SimHei\n",
      "findfont: Generic family 'sans-serif' not found because none of the following families were found: SimHei\n",
      "findfont: Generic family 'sans-serif' not found because none of the following families were found: SimHei\n",
      "findfont: Generic family 'sans-serif' not found because none of the following families were found: SimHei\n",
      "findfont: Generic family 'sans-serif' not found because none of the following families were found: SimHei\n",
      "findfont: Generic family 'sans-serif' not found because none of the following families were found: SimHei\n",
      "findfont: Generic family 'sans-serif' not found because none of the following families were found: SimHei\n",
      "findfont: Generic family 'sans-serif' not found because none of the following families were found: SimHei\n",
      "findfont: Generic family 'sans-serif' not found because none of the following families were found: SimHei\n",
      "findfont: Generic family 'sans-serif' not found because none of the following families were found: SimHei\n",
      "findfont: Generic family 'sans-serif' not found because none of the following families were found: SimHei\n",
      "findfont: Generic family 'sans-serif' not found because none of the following families were found: SimHei\n",
      "findfont: Generic family 'sans-serif' not found because none of the following families were found: SimHei\n",
      "findfont: Generic family 'sans-serif' not found because none of the following families were found: SimHei\n",
      "findfont: Generic family 'sans-serif' not found because none of the following families were found: SimHei\n",
      "findfont: Generic family 'sans-serif' not found because none of the following families were found: SimHei\n",
      "findfont: Generic family 'sans-serif' not found because none of the following families were found: SimHei\n",
      "findfont: Generic family 'sans-serif' not found because none of the following families were found: SimHei\n",
      "findfont: Generic family 'sans-serif' not found because none of the following families were found: SimHei\n",
      "findfont: Generic family 'sans-serif' not found because none of the following families were found: SimHei\n",
      "findfont: Generic family 'sans-serif' not found because none of the following families were found: SimHei\n",
      "findfont: Generic family 'sans-serif' not found because none of the following families were found: SimHei\n",
      "findfont: Generic family 'sans-serif' not found because none of the following families were found: SimHei\n",
      "findfont: Generic family 'sans-serif' not found because none of the following families were found: SimHei\n",
      "findfont: Generic family 'sans-serif' not found because none of the following families were found: SimHei\n",
      "findfont: Generic family 'sans-serif' not found because none of the following families were found: SimHei\n",
      "findfont: Generic family 'sans-serif' not found because none of the following families were found: SimHei\n",
      "findfont: Generic family 'sans-serif' not found because none of the following families were found: SimHei\n",
      "findfont: Generic family 'sans-serif' not found because none of the following families were found: SimHei\n",
      "findfont: Generic family 'sans-serif' not found because none of the following families were found: SimHei\n",
      "findfont: Generic family 'sans-serif' not found because none of the following families were found: SimHei\n",
      "findfont: Generic family 'sans-serif' not found because none of the following families were found: SimHei\n",
      "findfont: Generic family 'sans-serif' not found because none of the following families were found: SimHei\n",
      "findfont: Generic family 'sans-serif' not found because none of the following families were found: SimHei\n",
      "findfont: Generic family 'sans-serif' not found because none of the following families were found: SimHei\n",
      "findfont: Generic family 'sans-serif' not found because none of the following families were found: SimHei\n",
      "findfont: Generic family 'sans-serif' not found because none of the following families were found: SimHei\n",
      "findfont: Generic family 'sans-serif' not found because none of the following families were found: SimHei\n",
      "findfont: Generic family 'sans-serif' not found because none of the following families were found: SimHei\n"
     ]
    },
    {
     "data": {
      "image/png": "[encoded data removed]",
      "text/plain": [
       "<Figure size 640x480 with 1 Axes>"
      ]
     },
     "metadata": {},
     "output_type": "display_data"
    },
    {
     "name": "stderr",
     "output_type": "stream",
     "text": [
      "findfont: Generic family 'sans-serif' not found because none of the following families were found: SimHei\n",
      "findfont: Generic family 'sans-serif' not found because none of the following families were found: SimHei\n",
      "findfont: Generic family 'sans-serif' not found because none of the following families were found: SimHei\n",
      "findfont: Generic family 'sans-serif' not found because none of the following families were found: SimHei\n",
      "findfont: Generic family 'sans-serif' not found because none of the following families were found: SimHei\n",
      "findfont: Generic family 'sans-serif' not found because none of the following families were found: SimHei\n",
      "findfont: Generic family 'sans-serif' not found because none of the following families were found: SimHei\n",
      "findfont: Generic family 'sans-serif' not found because none of the following families were found: SimHei\n",
      "findfont: Generic family 'sans-serif' not found because none of the following families were found: SimHei\n",
      "findfont: Generic family 'sans-serif' not found because none of the following families were found: SimHei\n",
      "findfont: Generic family 'sans-serif' not found because none of the following families were found: SimHei\n",
      "findfont: Generic family 'sans-serif' not found because none of the following families were found: SimHei\n",
      "findfont: Generic family 'sans-serif' not found because none of the following families were found: SimHei\n",
      "findfont: Generic family 'sans-serif' not found because none of the following families were found: SimHei\n",
      "findfont: Generic family 'sans-serif' not found because none of the following families were found: SimHei\n",
      "findfont: Generic family 'sans-serif' not found because none of the following families were found: SimHei\n",
      "findfont: Generic family 'sans-serif' not found because none of the following families were found: SimHei\n",
      "findfont: Generic family 'sans-serif' not found because none of the following families were found: SimHei\n",
      "findfont: Generic family 'sans-serif' not found because none of the following families were found: SimHei\n",
      "findfont: Generic family 'sans-serif' not found because none of the following families were found: SimHei\n",
      "findfont: Generic family 'sans-serif' not found because none of the following families were found: SimHei\n",
      "findfont: Generic family 'sans-serif' not found because none of the following families were found: SimHei\n",
      "findfont: Generic family 'sans-serif' not found because none of the following families were found: SimHei\n",
      "findfont: Generic family 'sans-serif' not found because none of the following families were found: SimHei\n",
      "findfont: Generic family 'sans-serif' not found because none of the following families were found: SimHei\n",
      "findfont: Generic family 'sans-serif' not found because none of the following families were found: SimHei\n",
      "findfont: Generic family 'sans-serif' not found because none of the following families were found: SimHei\n",
      "findfont: Generic family 'sans-serif' not found because none of the following families were found: SimHei\n",
      "findfont: Generic family 'sans-serif' not found because none of the following families were found: SimHei\n",
      "findfont: Generic family 'sans-serif' not found because none of the following families were found: SimHei\n",
      "findfont: Generic family 'sans-serif' not found because none of the following families were found: SimHei\n",
      "findfont: Generic family 'sans-serif' not found because none of the following families were found: SimHei\n",
      "findfont: Generic family 'sans-serif' not found because none of the following families were found: SimHei\n",
      "findfont: Generic family 'sans-serif' not found because none of the following families were found: SimHei\n",
      "findfont: Generic family 'sans-serif' not found because none of the following families were found: SimHei\n",
      "findfont: Generic family 'sans-serif' not found because none of the following families were found: SimHei\n",
      "findfont: Generic family 'sans-serif' not found because none of the following families were found: SimHei\n",
      "findfont: Generic family 'sans-serif' not found because none of the following families were found: SimHei\n",
      "findfont: Generic family 'sans-serif' not found because none of the following families were found: SimHei\n",
      "findfont: Generic family 'sans-serif' not found because none of the following families were found: SimHei\n",
      "findfont: Generic family 'sans-serif' not found because none of the following families were found: SimHei\n",
      "findfont: Generic family 'sans-serif' not found because none of the following families were found: SimHei\n",
      "findfont: Generic family 'sans-serif' not found because none of the following families were found: SimHei\n",
      "findfont: Generic family 'sans-serif' not found because none of the following families were found: SimHei\n",
      "findfont: Generic family 'sans-serif' not found because none of the following families were found: SimHei\n",
      "findfont: Generic family 'sans-serif' not found because none of the following families were found: SimHei\n",
      "findfont: Generic family 'sans-serif' not found because none of the following families were found: SimHei\n",
      "findfont: Generic family 'sans-serif' not found because none of the following families were found: SimHei\n",
      "findfont: Generic family 'sans-serif' not found because none of the following families were found: SimHei\n",
      "findfont: Generic family 'sans-serif' not found because none of the following families were found: SimHei\n",
      "findfont: Generic family 'sans-serif' not found because none of the following families were found: SimHei\n",
      "findfont: Generic family 'sans-serif' not found because none of the following families were found: SimHei\n",
      "findfont: Generic family 'sans-serif' not found because none of the following families were found: SimHei\n",
      "findfont: Generic family 'sans-serif' not found because none of the following families were found: SimHei\n",
      "findfont: Generic family 'sans-serif' not found because none of the following families were found: SimHei\n",
      "findfont: Generic family 'sans-serif' not found because none of the following families were found: SimHei\n",
      "findfont: Generic family 'sans-serif' not found because none of the following families were found: SimHei\n",
      "findfont: Generic family 'sans-serif' not found because none of the following families were found: SimHei\n"
     ]
    },
    {
     "data": {
      "image/png": "[encoded data removed]",
      "text/plain": [
       "<Figure size 640x480 with 1 Axes>"
      ]
     },
     "metadata": {},
     "output_type": "display_data"
    }
   ],
   "source": [
    "#解决中文乱码\n",
    "plt.rcParams['font.sans-serif'] = ['SimHei']\n",
    "\n",
    "plt.plot(range(epochs), test_acc)\n",
    "plt.xlabel('epoch')\n",
    "plt.ylabel('test acc')\n",
    "plt.title(\"测试集准确度\")\n",
    "plt.show()\n",
    "\n",
    "plt.plot(range(epochs), train_loss)\n",
    "plt.xlabel('epoch')\n",
    "plt.ylabel('test loss')\n",
    "plt.title(\"训练集损失\")\n",
    "plt.show()\n",
    "\n",
    "plt.plot(range(epochs), train_acc)\n",
    "plt.xlabel('epoch')\n",
    "plt.ylabel('train acc')\n",
    "plt.title(\"训练集准确度\")\n",
    "plt.show()"
   ]
  },
  {
   "cell_type": "markdown",
   "metadata": {},
   "source": [
    "实验结果分析\n",
    "\n",
    "当设置学习率为0.01时，模型收敛速度较慢，相同epoch下测试集准确率不高，因此增大学习率为0.1，模型收敛速度较快，在测试集上的准确率也有了提升。据可视化的实验结果，模型在训练集上的损失逐渐降低，准确度逐渐升高。虽然模型在测试集的准确度曲线有明显波动，中途会有下降，但总体还是呈上升趋势。"
   ]
  }
 ],
 "metadata": {
  "kernelspec": {
   "display_name": "learn",
   "language": "python",
   "name": "python3"
  },
  "language_info": {
   "codemirror_mode": {
    "name": "ipython",
    "version": 3
   },
   "file_extension": ".py",
   "mimetype": "text/x-python",
   "name": "python",
   "nbconvert_exporter": "python",
   "pygments_lexer": "ipython3",
   "version": "3.11.11"
  }
 },
 "nbformat": 4,
 "nbformat_minor": 2
}
